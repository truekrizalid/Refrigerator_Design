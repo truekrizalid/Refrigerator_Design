{
 "cells": [
  {
   "cell_type": "markdown",
   "metadata": {},
   "source": [
    "## 风道设计"
   ]
  },
  {
   "attachments": {},
   "cell_type": "markdown",
   "metadata": {},
   "source": [
    "        风道系统是无霜冰箱制冷系统的关键子系统，蒸发器产生的制冷量，需要被流经蒸发器的气流带走，输送到箱体的各个子间室实现制冷功能，输入到各间室的气流通过回风道再经过蒸发器实现循环。\n",
    "        冰箱风道系统构成：（1）风机、（2）蒸发器室风道 （3）送风风道 （4）回风风道、（5）风门控制器。根据不同冰箱类型，风道设计会有不同的结构和参数，但其设计要求都是相同的，可归纳为如下几点：\n",
    "        1）保证系统获得尽可能大的通风量并减少流动压力损失\n",
    "        2）保证制冷量的分配满足冰箱系统制冷功能要求\n",
    "        3）优化蒸发器工况，保证系统制冷量和COP达到设计指标\n",
    "        4）优化气流噪音\n",
    "        \n",
    "## 风机的设计和选型\n",
    "        冰箱系统常用的风机类型有轴流风机和离心风机两种，从目前国内外产品设计趋势来看，在箱内风道设计中，离心式风机由于其占用体积小、风量大、噪音低的特点，在冰箱系统设计中的应用越来越普遍；而轴流风机主要应用在小容积冰箱系统和外置冷凝风机系统中。\n",
    "<img src=\"1.png\" width=\"20%\">\n",
    "        \n",
    "        \n",
    "        \n",
    "        "
   ]
  },
  {
   "attachments": {},
   "cell_type": "markdown",
   "metadata": {},
   "source": [
    "### 风机选型\n",
    "F-1:离心风机都选择后向叶轮结构的扇叶，出风方式\n",
    "\n",
    "F-2:风机的风量与系统阻力\n",
    "\n",
    "F-3：冰箱系统选择蒸发风机的原则\n",
    "        \n",
    "        "
   ]
  },
  {
   "cell_type": "markdown",
   "metadata": {},
   "source": [
    "### 离心风机的风道设计\n",
    "        蒸发器风机全部采取吸风设计，蒸发器位于气流上游，送风均匀，换热效果好；蒸发器充当了除湿器的作用，风机上不容易结冰；同时在重力方向上处于高位，不存在化霜水排出的问题;\n",
    "        离心风机的特点是气流进入后，偏转90度再被甩出，气流方向由垂直于风道内壁转换成平行于风道内壁，大幅减少了风道系统阻力。\n",
    "#### 离心风机的出风流线和为什么要制作蜗壳\n",
    "#### 离心风道的蜗壳设计\n",
    "#### 实际冰箱离心风道的设计"
   ]
  },
  {
   "cell_type": "markdown",
   "metadata": {},
   "source": []
  },
  {
   "cell_type": "markdown",
   "metadata": {
    "collapsed": true
   },
   "source": []
  }
 ],
 "metadata": {
  "kernelspec": {
   "display_name": "Python 3",
   "language": "python",
   "name": "python3"
  },
  "language_info": {
   "codemirror_mode": {
    "name": "ipython",
    "version": 3
   },
   "file_extension": ".py",
   "mimetype": "text/x-python",
   "name": "python",
   "nbconvert_exporter": "python",
   "pygments_lexer": "ipython3",
   "version": "3.6.0"
  }
 },
 "nbformat": 4,
 "nbformat_minor": 2
}

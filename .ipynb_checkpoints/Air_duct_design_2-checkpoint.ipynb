{
 "cells": [
  {
   "cell_type": "markdown",
   "metadata": {},
   "source": [
    "#### 风机的选型和匹配"
   ]
  },
  {
   "cell_type": "markdown",
   "metadata": {},
   "source": [
    "经过若干年的设计演变，目前国内的冷冻风机已经由分体式电机+扇叶演变至一体式风机，其风量更大，噪音一致性好，而且成本更低，所以本文仅就目前流行的离心风机设计进行介绍和分析"
   ]
  },
  {
   "cell_type": "markdown",
   "metadata": {},
   "source": [
    "老式分体设计"
   ]
  },
  {
   "cell_type": "markdown",
   "metadata": {},
   "source": [
    "新式一体设计"
   ]
  },
  {
   "cell_type": "markdown",
   "metadata": {},
   "source": [
    "#### 风机和箱体的匹配"
   ]
  },
  {
   "cell_type": "markdown",
   "metadata": {},
   "source": [
    "100L～200L：可以使用直径100mm的离心风机，常见有上海六盛、nidec、NMB等厂家都有相应的产品\n",
    "200L～500L：这个跨度比较大，从目前匹配效果来看，120mm的一体式扇叶能够满足相应的制冷量、能效、噪音的匹配要求\n",
    "     >500L:      建议使用140mm扇叶，使用较低的转速区间"
   ]
  },
  {
   "cell_type": "markdown",
   "metadata": {},
   "source": [
    "#### 风机选型的原则\n",
    "1、在结构条件允许时，尽量选择较大直径的扇叶\n",
    "2、风机的大小应该和制冷系统的设计工况相匹配\n",
    "3、风机运行转速应该选择在低噪音区间范围内"
   ]
  },
  {
   "cell_type": "markdown",
   "metadata": {},
   "source": [
    "#### 一体式离心风机的安装支撑设计"
   ]
  },
  {
   "cell_type": "markdown",
   "metadata": {},
   "source": [
    "#### 风机定律"
   ]
  },
  {
   "cell_type": "code",
   "execution_count": 6,
   "metadata": {
    "collapsed": true
   },
   "outputs": [],
   "source": [
    "#### 不同类型冰箱的冷冻风道设计\n",
    "###### BMF 上藏下冻两门/三门 小容积风冷（冷冻三抽屉/四抽屉）\n",
    "###### SBS 对开门\n",
    "###### TMF 上冻夏藏两门\n",
    "###### French door 法式四门\n",
    "###### 十字对开\n",
    "###### 独立冷藏"
   ]
  },
  {
   "cell_type": "code",
   "execution_count": 7,
   "metadata": {
    "collapsed": true
   },
   "outputs": [],
   "source": [
    "#### 冷冻风道的排水设计\n"
   ]
  },
  {
   "cell_type": "code",
   "execution_count": 8,
   "metadata": {
    "collapsed": true
   },
   "outputs": [],
   "source": [
    "#### 风道支路与电动风门的设计"
   ]
  },
  {
   "cell_type": "code",
   "execution_count": 9,
   "metadata": {
    "collapsed": true
   },
   "outputs": [],
   "source": [
    "#### 检验风量分配是否合理的实验方法"
   ]
  },
  {
   "cell_type": "code",
   "execution_count": 10,
   "metadata": {
    "collapsed": true
   },
   "outputs": [],
   "source": [
    "#### 如何通过实验观察风机匹配是否合适"
   ]
  },
  {
   "cell_type": "code",
   "execution_count": null,
   "metadata": {
    "collapsed": true
   },
   "outputs": [],
   "source": [
    "#### 风机噪音的控制"
   ]
  }
 ],
 "metadata": {
  "kernelspec": {
   "display_name": "Python 3",
   "language": "python",
   "name": "python3"
  },
  "language_info": {
   "codemirror_mode": {
    "name": "ipython",
    "version": 3
   },
   "file_extension": ".py",
   "mimetype": "text/x-python",
   "name": "python",
   "nbconvert_exporter": "python",
   "pygments_lexer": "ipython3",
   "version": "3.6.0"
  }
 },
 "nbformat": 4,
 "nbformat_minor": 2
}

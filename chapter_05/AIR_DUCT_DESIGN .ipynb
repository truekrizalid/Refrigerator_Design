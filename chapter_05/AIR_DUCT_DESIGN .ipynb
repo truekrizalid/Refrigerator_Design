{
 "cells": [
  {
   "cell_type": "markdown",
   "metadata": {},
   "source": [
    "## 风道设计"
   ]
  },
  {
   "cell_type": "markdown",
   "metadata": {
    "collapsed": true
   },
   "source": [
    "        风道系统是无霜冰箱制冷系统的关键子系统，蒸发器产生的制冷量，需要被流经蒸发器的气流带走，输送到箱体的各个子间室实现制冷功能，输入到各间室的气流通过回风道再经过蒸发器实现循环。\n",
    "        冰箱风道系统构成：（1）风机、（2）蒸发器室风道 （3）送风风道 （4）回风风道、（5）风门控制器。根据不同冰箱类型，风道设计会有不同的结构和参数，但其设计要求都是相同的，可归纳为如下几点：\n",
    "        1）保证系统获得尽可能大的通风量并减少流动压力损失\n",
    "        2）保证制冷量的分配满足冰箱系统制冷功能要求\n",
    "        3）优化蒸发器工况，保证系统制冷量和COP达到设计指标\n",
    "        4）优化气流噪音\n",
    "        \n",
    "\n",
    "        \n",
    "        \n",
    "        \n",
    "        "
   ]
  },
  {
   "cell_type": "markdown",
   "metadata": {},
   "source": [
    "## 风机的类型\n",
    "\n",
    "### 轴流风机(Axial Fan)\n",
    "    风机的进风口与出风口平行；风量大、风压小\n",
    "<img src=\"Axial_fan.jpg\" width=\"20%\">\n",
    "\n",
    "### 离心风机(Centrifugal Fan)\n",
    "    风机的进风口与出风口垂直；风量小、风压高\n",
    "<img src=\"Centrifugal_fan.jpg\" width=\"20%\">\n",
    "\n",
    "### 混流风机(Mixed Fan)\n",
    "    风机的进风口与出风口平行；其性能介乎轴流风机和离心风机之间\n",
    "<img src=\"Cross_fan.jpg\" width=\"20%\">"
   ]
  },
  {
   "cell_type": "markdown",
   "metadata": {
    "collapsed": true
   },
   "source": [
    "### 风机在冰箱中的应用和功能\n",
    "冰箱系统中需要使用风机的场合有三种：\n",
    "（1）为翅片蒸发器制冷提供循环空气流\n",
    "（2）为冷凝器提供冷风散热\n",
    "（3）在直冷冰箱间室中增强空气对流，提高间室温度场的均匀性 \n",
    "其中（1）蒸发风机和（2）冷凝风机都对系统性能有非常重要的作用，（3）只是起锦上添花的作用，对系统工况影响不大，忽略。\n",
    "\n",
    "### 制冷风机的选型\n",
    "用作箱内制冷循环风机时，需要克服蒸发器、风道和间室的空气流动阻力，而且是在截面积很小的空间内流动，所以不仅要求风机要提供足够的风量，还要有足够大的静压才能保证风机能够满足系统要求。轴流风机的特点是风量大，但提供的静压较小，所以不适合在系统阻力较大的场合内应用，如500L以上的大冰箱中，目前国内主流产品都转向使用离心风机作为制冷风机；\n",
    "### 冷凝风机的选型\n",
    "因为冰箱冷凝器散热只需要从一侧吸入从另一侧吹出，不允许出现回流，所以系统阻力很小，而且由于提供风量较大，在较低转速条件下就能满足系统散热要求，噪音也能得到有效控制。\n",
    "<img src=\"fan_curve.png\" width=\"40%\">\n",
    "####  <center>制冷风机的性能曲线及其工作区域 </center>\n",
    "    \n",
    "    \n",
    "    \n"
   ]
  },
  {
   "cell_type": "markdown",
   "metadata": {
    "collapsed": true
   },
   "source": [
    "### 认识风机的性能曲线和风机定律\n",
    "\n",
    "系统阻力近似和流量的平方成正比\n",
    "\n",
    "#### 风机结构不变\n",
    "    流量和速度成正比\n",
    "    压力和速度的平方成正比\n",
    "    功率和速度的3次方成正比\n",
    "    噪音和速度的5次方成正比\n",
    "#### 转速不变\n",
    "    流量和扇叶直径的立方成正比\n",
    "    压力和直径的平方成正比\n",
    "    功率和直径的5次方成正比\n",
    "风机的性能曲线可以依据AMCA standards 210-1999 测量并绘制。\n",
    "<img src=\"Centrifugal_fan_curve.jpg\" width = 50%>\n",
    "\n"
   ]
  },
  {
   "cell_type": "markdown",
   "metadata": {},
   "source": [
    "## 离心风机的叶片设计\n",
    "&emsp;&emsp;离心风机的叶片形式常见有三种，最常用的是后向叶片形式的离心风机，因为后弯叶片的流道较平滑且流道较长，扩压度较小，因而流道内的流动损失小，效率较高；前弯叶片流道短，气流需要拐弯，流动损失大，效率低。\n",
    "\n",
    "##### （1）Backward blade 后向叶轮\n",
    "##### （2）Radical blade 径向叶轮\n",
    "##### （3）Forward blade 前向叶轮\n",
    "<img src=\"离心风机叶轮.jpg\" width=\"100%\">   \n",
    "    \n"
   ]
  },
  {
   "cell_type": "markdown",
   "metadata": {
    "collapsed": true
   },
   "source": [
    "### 离心风机选型\n",
    "&emsp;&emsp;采用离心风机需要考虑4个方面：\n",
    "1、结构尺寸\n",
    "2、系统流阻\n",
    "3、系统热阻\n",
    "4、噪音要求\n",
    "\n",
    "&emsp;&emsp;在结构尺寸满足要求的情况下，尽量选择较大直径的扇叶，使用较低转速段，获得较低的噪音；\n",
    "做好风道系统的设计，降低系统流动阻力；\n",
    "提高蒸发器的设计容量，在较小风量输入的条件下就能获得足够的传热性能。\n",
    "        \n",
    "        "
   ]
  },
  {
   "cell_type": "markdown",
   "metadata": {},
   "source": [
    "#### 离心风机的出风设计\n",
    "&emsp;&emsp;由于离心风机的出风是从扇叶中心向扇叶四周流动，所以就需要有相应的导流结构将气流收集并导出，同时降低出口流速，将部分动压转换成静压，以降低能量损失，提高风机系统效率,如图所示，越靠近出口速越低，静压越高。\n",
    "\n",
    "<img src=\"blower-arrows.png\" width=\"50%\">\n",
    "<img src=\"static-pressure.png\" width=\"50%\">\n"
   ]
  },
  {
   "cell_type": "markdown",
   "metadata": {},
   "source": [
    "### 离心风机的蜗壳结构画法\n",
    "&emsp;&emsp;为了不破坏叶轮内的自由流动、离心风机蜗室型线一般近似按照自由流动轨迹来设计，而蜗室内气体质点的流动轨迹为对数螺旋线；下图是对数螺旋线的近似正方形画法：\n",
    "其中$ a = \\frac {A}{4} $ ,$ R_d = R + 0.5a$,$R_c = R + 1.5a$,$R_b = R + 2.5a$,$R_a = R + 3.5a$ ,其中R为扇叶的半径,P点为蜗室的起点\n",
    "<img src = \"蜗室螺旋线的近似画法.jpg\">"
   ]
  },
  {
   "cell_type": "markdown",
   "metadata": {
    "collapsed": true
   },
   "source": [
    "&emsp;&emsp;蜗舌所在半径与叶轮外径之差称为蜗舌间隙$t$,按照t值的大小，蜗舌可分为平舌、短舌、深舌、尖舌四种。一般风扇采用短舌。\n",
    "\n",
    "<img src =\"蜗舌.jpg\" width =\"25%\" >\n",
    "\n",
    "\n",
    "<p align=\"left\">\n",
    "其中$ t = m*R $  $( m = 0.1\\thicksim  0.2), $\n",
    "\n",
    "$ r = k*R $$ (k =0.06 \\thicksim  0.1)$\n",
    "</p>"
   ]
  },
  {
   "cell_type": "markdown",
   "metadata": {},
   "source": [
    "### 多出风流道的蜗壳设计\n",
    "当需要多个出风流道时，则需要对蜗壳增加螺旋线设计，对风量要求高的通路，流通截面要大，从蜗舌到出口距离要长。\n",
    "为了减小流动阻力，出风通道截面一般要求逐渐增大至通风管截面，最好不要出现缩口。\n",
    "<img src =\"双出风蜗壳.png\" width = \"30%\">"
   ]
  },
  {
   "cell_type": "code",
   "execution_count": null,
   "metadata": {},
   "outputs": [],
   "source": [
    "## 典型冷冻风道的设计"
   ]
  },
  {
   "cell_type": "code",
   "execution_count": 1,
   "metadata": {},
   "outputs": [],
   "source": [
    "## 风量与热负荷的匹配"
   ]
  },
  {
   "cell_type": "code",
   "execution_count": null,
   "metadata": {},
   "outputs": [],
   "source": [
    "## 冷藏风道"
   ]
  }
 ],
 "metadata": {
  "kernelspec": {
   "display_name": "Python 3",
   "language": "python",
   "name": "python3"
  },
  "language_info": {
   "codemirror_mode": {
    "name": "ipython",
    "version": 3
   },
   "file_extension": ".py",
   "mimetype": "text/x-python",
   "name": "python",
   "nbconvert_exporter": "python",
   "pygments_lexer": "ipython3",
   "version": "3.6.0"
  }
 },
 "nbformat": 4,
 "nbformat_minor": 2
}
